{
 "cells": [
  {
   "cell_type": "code",
   "execution_count": 7,
   "id": "befd397c-9814-4f3e-ae39-716cb96fd7ff",
   "metadata": {},
   "outputs": [
    {
     "data": {
      "text/plain": [
       "-1"
      ]
     },
     "execution_count": 7,
     "metadata": {},
     "output_type": "execute_result"
    }
   ],
   "source": [
    "5 - 6"
   ]
  },
  {
   "cell_type": "code",
   "execution_count": 8,
   "id": "ebed70f8-ed8b-4e76-abde-68d312f517b5",
   "metadata": {
    "scrolled": true
   },
   "outputs": [
    {
     "data": {
      "text/plain": [
       "int"
      ]
     },
     "execution_count": 8,
     "metadata": {},
     "output_type": "execute_result"
    }
   ],
   "source": [
    "type(89)"
   ]
  },
  {
   "cell_type": "code",
   "execution_count": 9,
   "id": "026c3496-338f-41c4-8a49-242b40bc096c",
   "metadata": {},
   "outputs": [
    {
     "data": {
      "text/plain": [
       "float"
      ]
     },
     "execution_count": 9,
     "metadata": {},
     "output_type": "execute_result"
    }
   ],
   "source": [
    "type(1.2)"
   ]
  },
  {
   "cell_type": "code",
   "execution_count": 10,
   "id": "9ee0d6b3-c68f-4977-acea-b25652696a17",
   "metadata": {},
   "outputs": [
    {
     "data": {
      "text/plain": [
       "7.0"
      ]
     },
     "execution_count": 10,
     "metadata": {},
     "output_type": "execute_result"
    }
   ],
   "source": [
    "2 * 3.5"
   ]
  },
  {
   "cell_type": "code",
   "execution_count": 11,
   "id": "a34a114a-7cd3-4ad3-b960-ecc5328b668b",
   "metadata": {},
   "outputs": [
    {
     "data": {
      "text/plain": [
       "1.5"
      ]
     },
     "execution_count": 11,
     "metadata": {},
     "output_type": "execute_result"
    }
   ],
   "source": [
    "3 / 2\n"
   ]
  },
  {
   "cell_type": "code",
   "execution_count": 16,
   "id": "824ce47a-2dc8-4942-96cb-2c3bca01a904",
   "metadata": {},
   "outputs": [
    {
     "data": {
      "text/plain": [
       "False"
      ]
     },
     "execution_count": 16,
     "metadata": {},
     "output_type": "execute_result"
    }
   ],
   "source": [
    "1 == 2\n"
   ]
  },
  {
   "cell_type": "markdown",
   "id": "dc3edced-b8c1-4967-8171-4249f2eda05b",
   "metadata": {},
   "source": [
    "1 == 3"
   ]
  },
  {
   "cell_type": "code",
   "execution_count": 17,
   "id": "472a98ea-54c3-43a4-9fd5-fc7c5f90352e",
   "metadata": {},
   "outputs": [
    {
     "data": {
      "text/plain": [
       "False"
      ]
     },
     "execution_count": 17,
     "metadata": {},
     "output_type": "execute_result"
    }
   ],
   "source": [
    "'Car' == 'car'"
   ]
  },
  {
   "cell_type": "code",
   "execution_count": 18,
   "id": "dc65f6d4-1be7-421e-9e69-e1fbbd04e8d1",
   "metadata": {},
   "outputs": [
    {
     "data": {
      "text/plain": [
       "False"
      ]
     },
     "execution_count": 18,
     "metadata": {},
     "output_type": "execute_result"
    }
   ],
   "source": [
    "'Car' == 'car'"
   ]
  },
  {
   "cell_type": "code",
   "execution_count": 19,
   "id": "9d4661a9-8cf5-4b0b-9c79-de97e9d13004",
   "metadata": {},
   "outputs": [
    {
     "data": {
      "text/plain": [
       "True"
      ]
     },
     "execution_count": 19,
     "metadata": {},
     "output_type": "execute_result"
    }
   ],
   "source": [
    "'Car' == 'Car'"
   ]
  },
  {
   "cell_type": "code",
   "execution_count": 20,
   "id": "a181084f-577f-4c9a-84b0-ea2bc9400bc2",
   "metadata": {},
   "outputs": [
    {
     "data": {
      "text/plain": [
       "False"
      ]
     },
     "execution_count": 20,
     "metadata": {},
     "output_type": "execute_result"
    }
   ],
   "source": [
    "bool(False)"
   ]
  },
  {
   "cell_type": "code",
   "execution_count": 21,
   "id": "15a858b7-9785-43a9-aa23-b31ce15f0078",
   "metadata": {},
   "outputs": [
    {
     "data": {
      "text/plain": [
       "True"
      ]
     },
     "execution_count": 21,
     "metadata": {},
     "output_type": "execute_result"
    }
   ],
   "source": [
    "bool(True)"
   ]
  },
  {
   "cell_type": "code",
   "execution_count": 22,
   "id": "76b7691d-21ec-4c4a-8607-c12277aeb632",
   "metadata": {},
   "outputs": [
    {
     "data": {
      "text/plain": [
       "True"
      ]
     },
     "execution_count": 22,
     "metadata": {},
     "output_type": "execute_result"
    }
   ],
   "source": [
    "bool(7)"
   ]
  },
  {
   "cell_type": "code",
   "execution_count": 23,
   "id": "9e093c5a-a13f-4e04-8339-ffa88bce55a1",
   "metadata": {},
   "outputs": [
    {
     "data": {
      "text/plain": [
       "False"
      ]
     },
     "execution_count": 23,
     "metadata": {},
     "output_type": "execute_result"
    }
   ],
   "source": [
    "bool(0)"
   ]
  },
  {
   "cell_type": "code",
   "execution_count": 24,
   "id": "0ca9b511-e6da-4598-95cc-27fb125697d3",
   "metadata": {},
   "outputs": [
    {
     "data": {
      "text/plain": [
       "False"
      ]
     },
     "execution_count": 24,
     "metadata": {},
     "output_type": "execute_result"
    }
   ],
   "source": [
    "bool(7==0)"
   ]
  },
  {
   "cell_type": "code",
   "execution_count": 25,
   "id": "0ad86275-0ddd-4ba0-9842-3b26047928ab",
   "metadata": {},
   "outputs": [
    {
     "data": {
      "text/plain": [
       "True"
      ]
     },
     "execution_count": 25,
     "metadata": {},
     "output_type": "execute_result"
    }
   ],
   "source": [
    "50002 % 2 == 0"
   ]
  },
  {
   "cell_type": "code",
   "execution_count": 26,
   "id": "fb67ddb5-d087-48c9-b2ad-f93b44b21723",
   "metadata": {},
   "outputs": [
    {
     "data": {
      "text/plain": [
       "True"
      ]
     },
     "execution_count": 26,
     "metadata": {},
     "output_type": "execute_result"
    }
   ],
   "source": [
    "5003 % 2 != 0"
   ]
  },
  {
   "cell_type": "code",
   "execution_count": 27,
   "id": "65c13576-2f43-4e9b-83d4-7611c73da97b",
   "metadata": {},
   "outputs": [
    {
     "data": {
      "text/plain": [
       "str"
      ]
     },
     "execution_count": 27,
     "metadata": {},
     "output_type": "execute_result"
    }
   ],
   "source": [
    "type('Nice')"
   ]
  },
  {
   "cell_type": "code",
   "execution_count": 28,
   "id": "443c40f8-ad10-46c2-a65f-c29ca8205f46",
   "metadata": {},
   "outputs": [
    {
     "data": {
      "text/plain": [
       "str"
      ]
     },
     "execution_count": 28,
     "metadata": {},
     "output_type": "execute_result"
    }
   ],
   "source": [
    "type(\"nice!\")"
   ]
  },
  {
   "cell_type": "code",
   "execution_count": 29,
   "id": "054214c0-a850-4fc1-9a36-c2a82a384dad",
   "metadata": {},
   "outputs": [
    {
     "data": {
      "text/plain": [
       "True"
      ]
     },
     "execution_count": 29,
     "metadata": {},
     "output_type": "execute_result"
    }
   ],
   "source": [
    "\"nice\" == 'nice'"
   ]
  },
  {
   "cell_type": "code",
   "execution_count": 30,
   "id": "9725c483-b45c-4847-8fe3-c0c874061f46",
   "metadata": {},
   "outputs": [
    {
     "name": "stdout",
     "output_type": "stream",
     "text": [
      "Brandon's string\n"
     ]
    }
   ],
   "source": [
    "print(\"Brandon\\'s string\")"
   ]
  },
  {
   "cell_type": "code",
   "execution_count": 31,
   "id": "3ec8b88b-3068-4153-ad06-e70aa6b547e3",
   "metadata": {},
   "outputs": [
    {
     "name": "stdout",
     "output_type": "stream",
     "text": [
      "Brandon's string\n"
     ]
    }
   ],
   "source": [
    "print('Brandon\\'s string')"
   ]
  },
  {
   "cell_type": "code",
   "execution_count": 32,
   "id": "059c1013-4446-4982-a1a3-fdc238020d7c",
   "metadata": {},
   "outputs": [
    {
     "data": {
      "text/plain": [
       "199.10628019323673"
      ]
     },
     "execution_count": 32,
     "metadata": {},
     "output_type": "execute_result"
    }
   ],
   "source": [
    "123645 / 621"
   ]
  },
  {
   "cell_type": "code",
   "execution_count": 33,
   "id": "55e683cc-f9ff-41c0-bdda-caa6a7f336b0",
   "metadata": {},
   "outputs": [
    {
     "data": {
      "text/plain": [
       "2"
      ]
     },
     "execution_count": 33,
     "metadata": {},
     "output_type": "execute_result"
    }
   ],
   "source": [
    "int(1234/421)"
   ]
  },
  {
   "cell_type": "code",
   "execution_count": 34,
   "id": "9f0e2cb2-743f-4a7d-b922-14c2dcb0782e",
   "metadata": {},
   "outputs": [
    {
     "data": {
      "text/plain": [
       "6"
      ]
     },
     "execution_count": 34,
     "metadata": {},
     "output_type": "execute_result"
    }
   ],
   "source": [
    "round(1234/215)"
   ]
  },
  {
   "cell_type": "code",
   "execution_count": 35,
   "id": "a80e00ee-81b0-4238-b0ff-ab7ebc5f84e8",
   "metadata": {},
   "outputs": [
    {
     "data": {
      "text/plain": [
       "4"
      ]
     },
     "execution_count": 35,
     "metadata": {},
     "output_type": "execute_result"
    }
   ],
   "source": [
    "round(21/5)"
   ]
  },
  {
   "cell_type": "code",
   "execution_count": 36,
   "id": "5a9c6519-283c-4e04-9a6b-3b1c83ca6c16",
   "metadata": {},
   "outputs": [
    {
     "data": {
      "text/plain": [
       "4"
      ]
     },
     "execution_count": 36,
     "metadata": {},
     "output_type": "execute_result"
    }
   ],
   "source": [
    "round(25/6)"
   ]
  },
  {
   "cell_type": "code",
   "execution_count": 37,
   "id": "8ce1d387-b6fa-48ff-86b3-138afce94dad",
   "metadata": {},
   "outputs": [
    {
     "data": {
      "text/plain": [
       "1"
      ]
     },
     "execution_count": 37,
     "metadata": {},
     "output_type": "execute_result"
    }
   ],
   "source": [
    "int('1')"
   ]
  },
  {
   "cell_type": "code",
   "execution_count": 38,
   "id": "735397cb-ab78-482c-aa6e-0f70f2eb4672",
   "metadata": {},
   "outputs": [
    {
     "name": "stdout",
     "output_type": "stream",
     "text": [
      "2.0\n"
     ]
    }
   ],
   "source": [
    "print(4/2)"
   ]
  },
  {
   "cell_type": "code",
   "execution_count": 39,
   "id": "e0e5f48c-6e9f-4d61-b5bf-03d73b91169f",
   "metadata": {},
   "outputs": [
    {
     "name": "stdout",
     "output_type": "stream",
     "text": [
      "4 % 2 = 0\n"
     ]
    }
   ],
   "source": [
    "print('4 % 2 =', 4 % 2)"
   ]
  },
  {
   "cell_type": "code",
   "execution_count": 41,
   "id": "6b0ee620-a56e-4f22-982f-0b60024ce450",
   "metadata": {},
   "outputs": [
    {
     "name": "stdout",
     "output_type": "stream",
     "text": [
      "4 % 2 = 0\n"
     ]
    }
   ],
   "source": [
    "print('4 % 2 =',str(4 % 2))"
   ]
  },
  {
   "cell_type": "code",
   "execution_count": 45,
   "id": "943c03d7-ee58-4f63-9aa4-9b2bbb576e61",
   "metadata": {},
   "outputs": [
    {
     "name": "stdout",
     "output_type": "stream",
     "text": [
      "Is 4 even? True\n"
     ]
    }
   ],
   "source": [
    "print('Is 4 even? ' + str(4 % 2 == 0))"
   ]
  },
  {
   "cell_type": "code",
   "execution_count": 47,
   "id": "d6ce3503-a07a-482d-be29-8fa2500fde04",
   "metadata": {},
   "outputs": [
    {
     "data": {
      "text/plain": [
       "12"
      ]
     },
     "execution_count": 47,
     "metadata": {},
     "output_type": "execute_result"
    }
   ],
   "source": [
    "12"
   ]
  },
  {
   "cell_type": "code",
   "execution_count": 48,
   "id": "89b20593-6550-440d-b4ad-99d3f239f8d9",
   "metadata": {},
   "outputs": [
    {
     "name": "stdout",
     "output_type": "stream",
     "text": [
      "aw\n"
     ]
    }
   ],
   "source": [
    "print('aw')"
   ]
  },
  {
   "cell_type": "code",
   "execution_count": 51,
   "id": "c7e63f1f-16c2-46ce-afea-c5e77da6946e",
   "metadata": {},
   "outputs": [
    {
     "data": {
      "text/plain": [
       "36"
      ]
     },
     "execution_count": 51,
     "metadata": {},
     "output_type": "execute_result"
    }
   ],
   "source": [
    "3 * 12"
   ]
  },
  {
   "cell_type": "code",
   "execution_count": null,
   "id": "fbc7a8e2-3b36-4edb-a997-7037e4250965",
   "metadata": {},
   "outputs": [],
   "source": []
  }
 ],
 "metadata": {
  "kernelspec": {
   "display_name": "Python 3 (ipykernel)",
   "language": "python",
   "name": "python3"
  },
  "language_info": {
   "codemirror_mode": {
    "name": "ipython",
    "version": 3
   },
   "file_extension": ".py",
   "mimetype": "text/x-python",
   "name": "python",
   "nbconvert_exporter": "python",
   "pygments_lexer": "ipython3",
   "version": "3.13.1"
  }
 },
 "nbformat": 4,
 "nbformat_minor": 5
}
